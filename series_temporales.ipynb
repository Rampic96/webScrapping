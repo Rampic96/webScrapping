{
 "cells": [
  {
   "cell_type": "markdown",
   "metadata": {
    "slideshow": {
     "slide_type": "-"
    }
   },
   "source": [
    "# Importación de librerias"
   ]
  },
  {
   "cell_type": "code",
   "execution_count": 1,
   "metadata": {
    "slideshow": {
     "slide_type": "-"
    }
   },
   "outputs": [],
   "source": [
    "#Librerias utilizadas en el trabajo de datos y predicción\n",
    "import pandas as pd\n",
    "import matplotlib.pyplot as plt\n",
    "import seaborn as sbn\n",
    "from sklearn.preprocessing import MinMaxScaler\n",
    "from keras.models import Sequential\n",
    "from keras.layers import Dense,Flatten\n",
    "from datetime import timedelta\n",
    "from pptx.util import Inches\n",
    "from pptx import Presentation"
   ]
  },
  {
   "cell_type": "markdown",
   "metadata": {},
   "source": [
    "# Importación de dataset"
   ]
  },
  {
   "cell_type": "code",
   "execution_count": 2,
   "metadata": {},
   "outputs": [],
   "source": [
    "#Importacion del dataset que contiene los computadores, con precio, id, tienda y fecha\n",
    "df = pd.read_excel(\"precioFechaPorId.xlsx\")#, index_col=9, parse_dates=True#)"
   ]
  },
  {
   "cell_type": "code",
   "execution_count": 3,
   "metadata": {},
   "outputs": [],
   "source": [
    "#Eliminación de columna Unnamed: 0 que se crea al importar el xlsx\n",
    "try:\n",
    "    df = df.drop({\"Unnamed: 0\"}, axis=1)\n",
    "except:\n",
    "    x=2"
   ]
  },
  {
   "cell_type": "code",
   "execution_count": 4,
   "metadata": {},
   "outputs": [],
   "source": [
    "df = df.drop_duplicates([\"ID_SKU\", \"FECHA\", \"TIENDA\"], keep='first')"
   ]
  },
  {
   "cell_type": "markdown",
   "metadata": {},
   "source": [
    "# Creación de funciones de validacion para el id_sku y la tienda del producto"
   ]
  },
  {
   "cell_type": "code",
   "execution_count": 5,
   "metadata": {},
   "outputs": [],
   "source": [
    "#Función que retorna las tiendas que pertenecen a un sku en especifico\n",
    "def BuscarTiendas(id):\n",
    "    final = df[df[\"ID_SKU\"]== id]\n",
    "    tiendas = final.groupby([\"TIENDA\"]).count().index\n",
    "    return tiendas"
   ]
  },
  {
   "cell_type": "code",
   "execution_count": 6,
   "metadata": {},
   "outputs": [],
   "source": [
    "#Función para poder validar las tiendas en las que se encuentra el producto\n",
    "def ValidarTiendas(tiendas):\n",
    "    print(\"Las tiendas disponibles para este producto son: \")\n",
    "    for i in range(len(tiendas)):\n",
    "        print(tiendas[i])\n",
    "    return \"Elija una de ellas\"\n"
   ]
  },
  {
   "cell_type": "code",
   "execution_count": 7,
   "metadata": {},
   "outputs": [],
   "source": [
    "#Función que permite verificar si la tienda ingresada es valida\n",
    "def VerificarTiendas(tienda, tiendas):\n",
    "    aux = []\n",
    "    for i in range(len(tiendas)):\n",
    "        aux.append(tiendas[i])\n",
    "\n",
    "    for i in range(len(aux)):\n",
    "        if(aux[i] == tienda):\n",
    "            return \"Tienda agregada correctamente\"\n",
    "    return \"ERROR\"\n"
   ]
  },
  {
   "cell_type": "code",
   "execution_count": 8,
   "metadata": {},
   "outputs": [],
   "source": [
    "#Función que realiza el filtro de productos en relación al id y la tienda del mismo\n",
    "def buscarElemento(id, tienda):\n",
    "    final = df[df[\"ID_SKU\"]== id]\n",
    "    final = final[final[\"TIENDA\"]== tienda]     \n",
    "    return final\n"
   ]
  },
  {
   "cell_type": "code",
   "execution_count": 9,
   "metadata": {},
   "outputs": [],
   "source": [
    "#Función que realiza la buqueda del producto de forma concreta\n",
    "def buscarProducto():\n",
    "    i = int(input(\"Ingrese id_sku del producto: \"))\n",
    "    tiendas = BuscarTiendas(i)\n",
    "    ValidarTiendas(tiendas)\n",
    "    error = 0\n",
    "    while(error == 0):\n",
    "        j = input(\"Ingrese tienda que desee trabajar \\n\").upper()\n",
    "        y = VerificarTiendas(j, tiendas)\n",
    "        if (y ==\"ERROR\"):\n",
    "            print(\"Tienda equivocada, ingrese nuevamente\")\n",
    "\n",
    "        else:\n",
    "            error = 1\n",
    "    producto = buscarElemento(i,j)\n",
    "    return producto\n",
    "    "
   ]
  },
  {
   "cell_type": "markdown",
   "metadata": {},
   "source": [
    "# Filtro del producto aplicando funciones creadas previamente"
   ]
  },
  {
   "cell_type": "code",
   "execution_count": 10,
   "metadata": {},
   "outputs": [
    {
     "name": "stdout",
     "output_type": "stream",
     "text": [
      "Las tiendas disponibles para este producto son: \n",
      "HITES\n",
      "PC FACTORY\n",
      "RIPLEY\n"
     ]
    }
   ],
   "source": [
    "#Segmento de codigo en el que permite ver si la cantidad de registros permitirá la predicción de 7 dias, sino se reinicia el ciclo\n",
    "aux = 0\n",
    "while(aux == 0):\n",
    "    producto = buscarProducto()\n",
    "    if(len(producto)>=14):\n",
    "        aux = 1\n",
    "    else:\n",
    "        print(\"La cantidad de registros del producto es menor a lo ideal, ingrese otro producto\")"
   ]
  },
  {
   "cell_type": "code",
   "execution_count": 11,
   "metadata": {},
   "outputs": [],
   "source": [
    "#Reinicio del indice del dataset despues de ser filtrado\n",
    "producto.reset_index(inplace=True, drop=False)\n",
    "producto = producto.drop([\"index\"], axis=1)"
   ]
  },
  {
   "cell_type": "code",
   "execution_count": 12,
   "metadata": {},
   "outputs": [
    {
     "data": {
      "text/html": [
       "<div>\n",
       "<style scoped>\n",
       "    .dataframe tbody tr th:only-of-type {\n",
       "        vertical-align: middle;\n",
       "    }\n",
       "\n",
       "    .dataframe tbody tr th {\n",
       "        vertical-align: top;\n",
       "    }\n",
       "\n",
       "    .dataframe thead th {\n",
       "        text-align: right;\n",
       "    }\n",
       "</style>\n",
       "<table border=\"1\" class=\"dataframe\">\n",
       "  <thead>\n",
       "    <tr style=\"text-align: right;\">\n",
       "      <th></th>\n",
       "      <th>ID_SKU</th>\n",
       "      <th>PRECIO</th>\n",
       "      <th>FECHA</th>\n",
       "      <th>TIENDA</th>\n",
       "    </tr>\n",
       "  </thead>\n",
       "  <tbody>\n",
       "    <tr>\n",
       "      <th>0</th>\n",
       "      <td>8</td>\n",
       "      <td>269990</td>\n",
       "      <td>2021-11-30</td>\n",
       "      <td>HITES</td>\n",
       "    </tr>\n",
       "    <tr>\n",
       "      <th>1</th>\n",
       "      <td>8</td>\n",
       "      <td>269990</td>\n",
       "      <td>2021-12-01</td>\n",
       "      <td>HITES</td>\n",
       "    </tr>\n",
       "    <tr>\n",
       "      <th>2</th>\n",
       "      <td>8</td>\n",
       "      <td>269990</td>\n",
       "      <td>2021-12-02</td>\n",
       "      <td>HITES</td>\n",
       "    </tr>\n",
       "    <tr>\n",
       "      <th>3</th>\n",
       "      <td>8</td>\n",
       "      <td>269990</td>\n",
       "      <td>2021-12-03</td>\n",
       "      <td>HITES</td>\n",
       "    </tr>\n",
       "    <tr>\n",
       "      <th>4</th>\n",
       "      <td>8</td>\n",
       "      <td>269990</td>\n",
       "      <td>2021-12-04</td>\n",
       "      <td>HITES</td>\n",
       "    </tr>\n",
       "    <tr>\n",
       "      <th>5</th>\n",
       "      <td>8</td>\n",
       "      <td>269990</td>\n",
       "      <td>2021-12-05</td>\n",
       "      <td>HITES</td>\n",
       "    </tr>\n",
       "    <tr>\n",
       "      <th>6</th>\n",
       "      <td>8</td>\n",
       "      <td>269990</td>\n",
       "      <td>2021-12-06</td>\n",
       "      <td>HITES</td>\n",
       "    </tr>\n",
       "    <tr>\n",
       "      <th>7</th>\n",
       "      <td>8</td>\n",
       "      <td>269990</td>\n",
       "      <td>2021-12-07</td>\n",
       "      <td>HITES</td>\n",
       "    </tr>\n",
       "    <tr>\n",
       "      <th>8</th>\n",
       "      <td>8</td>\n",
       "      <td>269990</td>\n",
       "      <td>2021-12-08</td>\n",
       "      <td>HITES</td>\n",
       "    </tr>\n",
       "    <tr>\n",
       "      <th>9</th>\n",
       "      <td>8</td>\n",
       "      <td>269990</td>\n",
       "      <td>2021-12-09</td>\n",
       "      <td>HITES</td>\n",
       "    </tr>\n",
       "    <tr>\n",
       "      <th>10</th>\n",
       "      <td>8</td>\n",
       "      <td>269990</td>\n",
       "      <td>2021-12-10</td>\n",
       "      <td>HITES</td>\n",
       "    </tr>\n",
       "    <tr>\n",
       "      <th>11</th>\n",
       "      <td>8</td>\n",
       "      <td>269990</td>\n",
       "      <td>2021-12-11</td>\n",
       "      <td>HITES</td>\n",
       "    </tr>\n",
       "    <tr>\n",
       "      <th>12</th>\n",
       "      <td>8</td>\n",
       "      <td>269990</td>\n",
       "      <td>2021-12-12</td>\n",
       "      <td>HITES</td>\n",
       "    </tr>\n",
       "    <tr>\n",
       "      <th>13</th>\n",
       "      <td>8</td>\n",
       "      <td>269990</td>\n",
       "      <td>2021-12-13</td>\n",
       "      <td>HITES</td>\n",
       "    </tr>\n",
       "    <tr>\n",
       "      <th>14</th>\n",
       "      <td>8</td>\n",
       "      <td>269990</td>\n",
       "      <td>2021-12-14</td>\n",
       "      <td>HITES</td>\n",
       "    </tr>\n",
       "    <tr>\n",
       "      <th>15</th>\n",
       "      <td>8</td>\n",
       "      <td>269990</td>\n",
       "      <td>2021-12-15</td>\n",
       "      <td>HITES</td>\n",
       "    </tr>\n",
       "    <tr>\n",
       "      <th>16</th>\n",
       "      <td>8</td>\n",
       "      <td>269990</td>\n",
       "      <td>2021-12-16</td>\n",
       "      <td>HITES</td>\n",
       "    </tr>\n",
       "    <tr>\n",
       "      <th>17</th>\n",
       "      <td>8</td>\n",
       "      <td>269990</td>\n",
       "      <td>2021-12-18</td>\n",
       "      <td>HITES</td>\n",
       "    </tr>\n",
       "    <tr>\n",
       "      <th>18</th>\n",
       "      <td>8</td>\n",
       "      <td>269990</td>\n",
       "      <td>2021-12-19</td>\n",
       "      <td>HITES</td>\n",
       "    </tr>\n",
       "    <tr>\n",
       "      <th>19</th>\n",
       "      <td>8</td>\n",
       "      <td>269990</td>\n",
       "      <td>2021-12-20</td>\n",
       "      <td>HITES</td>\n",
       "    </tr>\n",
       "    <tr>\n",
       "      <th>20</th>\n",
       "      <td>8</td>\n",
       "      <td>269990</td>\n",
       "      <td>2021-12-21</td>\n",
       "      <td>HITES</td>\n",
       "    </tr>\n",
       "    <tr>\n",
       "      <th>21</th>\n",
       "      <td>8</td>\n",
       "      <td>269990</td>\n",
       "      <td>2021-12-22</td>\n",
       "      <td>HITES</td>\n",
       "    </tr>\n",
       "    <tr>\n",
       "      <th>22</th>\n",
       "      <td>8</td>\n",
       "      <td>269990</td>\n",
       "      <td>2021-12-23</td>\n",
       "      <td>HITES</td>\n",
       "    </tr>\n",
       "    <tr>\n",
       "      <th>23</th>\n",
       "      <td>8</td>\n",
       "      <td>259990</td>\n",
       "      <td>2021-12-27</td>\n",
       "      <td>HITES</td>\n",
       "    </tr>\n",
       "    <tr>\n",
       "      <th>24</th>\n",
       "      <td>8</td>\n",
       "      <td>259990</td>\n",
       "      <td>2021-12-28</td>\n",
       "      <td>HITES</td>\n",
       "    </tr>\n",
       "    <tr>\n",
       "      <th>25</th>\n",
       "      <td>8</td>\n",
       "      <td>259990</td>\n",
       "      <td>2021-12-29</td>\n",
       "      <td>HITES</td>\n",
       "    </tr>\n",
       "    <tr>\n",
       "      <th>26</th>\n",
       "      <td>8</td>\n",
       "      <td>259990</td>\n",
       "      <td>2021-12-30</td>\n",
       "      <td>HITES</td>\n",
       "    </tr>\n",
       "    <tr>\n",
       "      <th>27</th>\n",
       "      <td>8</td>\n",
       "      <td>259990</td>\n",
       "      <td>2021-12-31</td>\n",
       "      <td>HITES</td>\n",
       "    </tr>\n",
       "    <tr>\n",
       "      <th>28</th>\n",
       "      <td>8</td>\n",
       "      <td>259990</td>\n",
       "      <td>2022-01-01</td>\n",
       "      <td>HITES</td>\n",
       "    </tr>\n",
       "  </tbody>\n",
       "</table>\n",
       "</div>"
      ],
      "text/plain": [
       "    ID_SKU  PRECIO      FECHA TIENDA\n",
       "0        8  269990 2021-11-30  HITES\n",
       "1        8  269990 2021-12-01  HITES\n",
       "2        8  269990 2021-12-02  HITES\n",
       "3        8  269990 2021-12-03  HITES\n",
       "4        8  269990 2021-12-04  HITES\n",
       "5        8  269990 2021-12-05  HITES\n",
       "6        8  269990 2021-12-06  HITES\n",
       "7        8  269990 2021-12-07  HITES\n",
       "8        8  269990 2021-12-08  HITES\n",
       "9        8  269990 2021-12-09  HITES\n",
       "10       8  269990 2021-12-10  HITES\n",
       "11       8  269990 2021-12-11  HITES\n",
       "12       8  269990 2021-12-12  HITES\n",
       "13       8  269990 2021-12-13  HITES\n",
       "14       8  269990 2021-12-14  HITES\n",
       "15       8  269990 2021-12-15  HITES\n",
       "16       8  269990 2021-12-16  HITES\n",
       "17       8  269990 2021-12-18  HITES\n",
       "18       8  269990 2021-12-19  HITES\n",
       "19       8  269990 2021-12-20  HITES\n",
       "20       8  269990 2021-12-21  HITES\n",
       "21       8  269990 2021-12-22  HITES\n",
       "22       8  269990 2021-12-23  HITES\n",
       "23       8  259990 2021-12-27  HITES\n",
       "24       8  259990 2021-12-28  HITES\n",
       "25       8  259990 2021-12-29  HITES\n",
       "26       8  259990 2021-12-30  HITES\n",
       "27       8  259990 2021-12-31  HITES\n",
       "28       8  259990 2022-01-01  HITES"
      ]
     },
     "execution_count": 12,
     "metadata": {},
     "output_type": "execute_result"
    }
   ],
   "source": [
    "#Muestra del filtrado de producto\n",
    "producto"
   ]
  },
  {
   "cell_type": "markdown",
   "metadata": {},
   "source": [
    "# Visualizacion de precios en relación a la fecha"
   ]
  },
  {
   "cell_type": "code",
   "execution_count": 13,
   "metadata": {},
   "outputs": [
    {
     "data": {
      "text/plain": [
       "<AxesSubplot:xlabel='FECHA'>"
      ]
     },
     "execution_count": 13,
     "metadata": {},
     "output_type": "execute_result"
    },
    {
     "data": {
      "image/png": "[encoded data removed]",
      "text/plain": [
       "<Figure size 720x360 with 1 Axes>"
      ]
     },
     "metadata": {},
     "output_type": "display_data"
    }
   ],
   "source": [
    "#Generacion del grafico con plot en realcion a la fecha y precio\n",
    "sbn.set(rc={'figure.figsize':(10, 5)})\n",
    "filtrado = producto[[\"FECHA\", \"PRECIO\"]]\n",
    "filtrado.index = filtrado['FECHA']\n",
    "filtrado['PRECIO'].plot(linewidth = 3.0)"
   ]
  },
  {
   "cell_type": "code",
   "execution_count": 14,
   "metadata": {},
   "outputs": [
    {
     "data": {
      "image/png": "[encoded data removed]",
      "text/plain": [
       "<Figure size 720x360 with 1 Axes>"
      ]
     },
     "metadata": {},
     "output_type": "display_data"
    }
   ],
   "source": [
    "#Generación del grafico de tendencia del precio en relación a la fecha\n",
    "x = filtrado[\"FECHA\"]\n",
    "y = filtrado[\"PRECIO\"]\n",
    "\n",
    "plt.step(x,y)\n",
    "\n",
    "\n",
    "plt.xlabel('Fechas de extracción')\n",
    "plt.ylabel('Precio de computadores')\n",
    "plt.title('Precios de notebook a través del tiempo')\n",
    "plt.legend(['Linea de tendencia'])\n",
    "\n",
    "# save the figure\n",
    "plt.savefig('TendenciaAntes.png', dpi=300, bbox_inches='tight', pad_inches=0.1)\n",
    "plt.savefig('TendenciaAntes.jpg', dpi=300, bbox_inches='tight', pad_inches=0.1)\n"
   ]
  },
  {
   "cell_type": "code",
   "execution_count": 15,
   "metadata": {},
   "outputs": [
    {
     "data": {
      "image/png": "[encoded data removed]",
      "text/plain": [
       "<Figure size 720x360 with 1 Axes>"
      ]
     },
     "metadata": {},
     "output_type": "display_data"
    }
   ],
   "source": [
    "#Generación de grafico de puntos\n",
    "plt.scatter(filtrado[\"FECHA\"], filtrado[\"PRECIO\"])\n",
    "plt.title(\"Precios en relación a la fecha\")\n",
    "plt.legend(\"Precios\")\n",
    "plt.savefig('scatterAntes.png', dpi=300, bbox_inches='tight')\n",
    "plt.savefig('scatterAntes.jpg', dpi=300, bbox_inches='tight')"
   ]
  },
  {
   "cell_type": "code",
   "execution_count": 16,
   "metadata": {},
   "outputs": [],
   "source": [
    "# Convertir series en aprendizaje supervisado\n",
    "def series_to_supervised(data, n_in=1, n_out=1, dropnan=True):\n",
    "    n_vars = 1 if type(data) is list else data.shape[1]\n",
    "    df = pd.DataFrame(data)\n",
    "    cols, names = list(), list()\n",
    "    # input sequence (t-n, ... t-1)\n",
    "    for i in range(n_in, 0, -1):\n",
    "        cols.append(df.shift(i))\n",
    "        names += [('var%d(t-%d)' % (j+1, i)) for j in range(n_vars)]\n",
    "    # forecast sequence (t, t+1, ... t+n)\n",
    "    for i in range(0, n_out):\n",
    "        cols.append(df.shift(-i))\n",
    "        if i == 0:\n",
    "            names += [('var%d(t)' % (j+1)) for j in range(n_vars)]\n",
    "        else:\n",
    "            names += [('var%d(t+%d)' % (j+1, i)) for j in range(n_vars)]\n",
    "    # put it all together\n",
    "    agg = pd.concat(cols, axis=1)\n",
    "    agg.columns = names\n",
    "    # drop rows with NaN values\n",
    "    if dropnan:\n",
    "        agg.dropna(inplace=True)\n",
    "    return agg"
   ]
  },
  {
   "cell_type": "code",
   "execution_count": 17,
   "metadata": {},
   "outputs": [
    {
     "data": {
      "text/plain": [
       "array([[ 1.],\n",
       "       [ 1.],\n",
       "       [ 1.],\n",
       "       [ 1.],\n",
       "       [ 1.],\n",
       "       [ 1.],\n",
       "       [ 1.],\n",
       "       [ 1.],\n",
       "       [ 1.],\n",
       "       [ 1.],\n",
       "       [ 1.],\n",
       "       [ 1.],\n",
       "       [ 1.],\n",
       "       [ 1.],\n",
       "       [ 1.],\n",
       "       [ 1.],\n",
       "       [ 1.],\n",
       "       [ 1.],\n",
       "       [ 1.],\n",
       "       [ 1.],\n",
       "       [ 1.],\n",
       "       [ 1.],\n",
       "       [ 1.],\n",
       "       [-1.],\n",
       "       [-1.],\n",
       "       [-1.],\n",
       "       [-1.],\n",
       "       [-1.],\n",
       "       [-1.]], dtype=float32)"
      ]
     },
     "execution_count": 17,
     "metadata": {},
     "output_type": "execute_result"
    }
   ],
   "source": [
    "precios = filtrado['PRECIO'].values\n",
    "precios = precios.astype('float32')\n",
    "\n",
    "# Normalización de caracteristicas\n",
    "scaler = MinMaxScaler(feature_range=(-1, 1))\n",
    "precios = precios.reshape(-1, 1) # esto lo hacemos porque tenemos 1 sola dimension\n",
    "scaled = scaler.fit_transform(precios)\n",
    "scaled"
   ]
  },
  {
   "cell_type": "code",
   "execution_count": 18,
   "metadata": {},
   "outputs": [
    {
     "name": "stdout",
     "output_type": "stream",
     "text": [
      "(15, 1, 7) (15,) (7, 1, 7) (7,)\n"
     ]
    }
   ],
   "source": [
    "#Definición de los datos de entrenamiento en relación al tamaño del dataset por los registros del producto\n",
    "\n",
    "PASOS = 7\n",
    "reframed = series_to_supervised(scaled, PASOS, 1)\n",
    "\n",
    "if(len(producto)<=20):\n",
    "    # split into train and test sets\n",
    "    values = reframed.values\n",
    "    n_train_days = 4\n",
    "    train = values[:n_train_days, :]\n",
    "    test = values[n_train_days:, :]\n",
    "    # split into input and outputs\n",
    "    x_train, y_train = train[:, :-1], train[:, -1]\n",
    "    x_val, y_val = test[:, :-1], test[:, -1]\n",
    "    # reshape input to be 3D [samples, timesteps, features]\n",
    "    x_train = x_train.reshape((x_train.shape[0], 1, x_train.shape[1]))\n",
    "    x_val = x_val.reshape((x_val.shape[0], 1, x_val.shape[1]))\n",
    "    print(x_train.shape, y_train.shape, x_val.shape, y_val.shape)\n",
    "\n",
    "\n",
    "if(len(producto)>20):\n",
    "    # split into train and test sets\n",
    "    values = reframed.values\n",
    "    n_train_days = int(len(producto) - PASOS*2)\n",
    "    train = values[:n_train_days, :]\n",
    "    test = values[n_train_days:, :]\n",
    "    # split into input and outputs\n",
    "    x_train, y_train = train[:, :-1], train[:, -1]\n",
    "    x_val, y_val = test[:, :-1], test[:, -1]\n",
    "    # reshape input to be 3D [samples, timesteps, features]\n",
    "    x_train = x_train.reshape((x_train.shape[0], 1, x_train.shape[1]))\n",
    "    x_val = x_val.reshape((x_val.shape[0], 1, x_val.shape[1]))\n",
    "    print(x_train.shape, y_train.shape, x_val.shape, y_val.shape)"
   ]
  },
  {
   "cell_type": "code",
   "execution_count": 19,
   "metadata": {},
   "outputs": [],
   "source": [
    "#Funcion que permite crear el modelo\n",
    "def crear_modeloFF():\n",
    "    model = Sequential() \n",
    "    model.add(Dense(PASOS, input_shape=(1,PASOS),activation='tanh'))\n",
    "    model.add(Flatten())\n",
    "    model.add(Dense(1, activation='sigmoid'))\n",
    "    model.compile(loss='mean_absolute_error',optimizer='Adam',metrics=[\"mse\"])\n",
    "    model.summary()\n",
    "    return model"
   ]
  },
  {
   "cell_type": "code",
   "execution_count": 20,
   "metadata": {},
   "outputs": [
    {
     "name": "stdout",
     "output_type": "stream",
     "text": [
      "Model: \"sequential\"\n",
      "_________________________________________________________________\n",
      "Layer (type)                 Output Shape              Param #   \n",
      "=================================================================\n",
      "dense (Dense)                (None, 1, 7)              56        \n",
      "_________________________________________________________________\n",
      "flatten (Flatten)            (None, 7)                 0         \n",
      "_________________________________________________________________\n",
      "dense_1 (Dense)              (None, 1)                 8         \n",
      "=================================================================\n",
      "Total params: 64\n",
      "Trainable params: 64\n",
      "Non-trainable params: 0\n",
      "_________________________________________________________________\n",
      "Epoch 1/40\n",
      "3/3 [==============================] - 3s 821ms/step - loss: 0.7893 - mse: 0.6230 - val_loss: 1.2714 - val_mse: 1.6734\n",
      "Epoch 2/40\n",
      "3/3 [==============================] - 0s 17ms/step - loss: 0.7781 - mse: 0.6055 - val_loss: 1.2729 - val_mse: 1.6785\n",
      "Epoch 3/40\n",
      "3/3 [==============================] - 0s 16ms/step - loss: 0.7664 - mse: 0.5874 - val_loss: 1.2743 - val_mse: 1.6833\n",
      "Epoch 4/40\n",
      "3/3 [==============================] - 0s 15ms/step - loss: 0.7542 - mse: 0.5688 - val_loss: 1.2757 - val_mse: 1.6883\n",
      "Epoch 5/40\n",
      "3/3 [==============================] - 0s 17ms/step - loss: 0.7413 - mse: 0.5495 - val_loss: 1.2771 - val_mse: 1.6934\n",
      "Epoch 6/40\n",
      "3/3 [==============================] - 0s 17ms/step - loss: 0.7278 - mse: 0.5297 - val_loss: 1.2785 - val_mse: 1.6989\n",
      "Epoch 7/40\n",
      "3/3 [==============================] - 0s 16ms/step - loss: 0.7137 - mse: 0.5093 - val_loss: 1.2799 - val_mse: 1.7047\n",
      "Epoch 8/40\n",
      "3/3 [==============================] - 0s 16ms/step - loss: 0.6988 - mse: 0.4884 - val_loss: 1.2813 - val_mse: 1.7107\n",
      "Epoch 9/40\n",
      "3/3 [==============================] - 0s 17ms/step - loss: 0.6834 - mse: 0.4670 - val_loss: 1.2828 - val_mse: 1.7172\n",
      "Epoch 10/40\n",
      "3/3 [==============================] - 0s 17ms/step - loss: 0.6672 - mse: 0.4452 - val_loss: 1.2843 - val_mse: 1.7240\n",
      "Epoch 11/40\n",
      "3/3 [==============================] - 0s 16ms/step - loss: 0.6505 - mse: 0.4231 - val_loss: 1.2858 - val_mse: 1.7312\n",
      "Epoch 12/40\n",
      "3/3 [==============================] - 0s 17ms/step - loss: 0.6331 - mse: 0.4008 - val_loss: 1.2873 - val_mse: 1.7388\n",
      "Epoch 13/40\n",
      "3/3 [==============================] - 0s 16ms/step - loss: 0.6151 - mse: 0.3783 - val_loss: 1.2889 - val_mse: 1.7468\n",
      "Epoch 14/40\n",
      "3/3 [==============================] - 0s 16ms/step - loss: 0.5966 - mse: 0.3560 - val_loss: 1.2905 - val_mse: 1.7552\n",
      "Epoch 15/40\n",
      "3/3 [==============================] - 0s 15ms/step - loss: 0.5777 - mse: 0.3337 - val_loss: 1.2921 - val_mse: 1.7640\n",
      "Epoch 16/40\n",
      "3/3 [==============================] - 0s 16ms/step - loss: 0.5583 - mse: 0.3118 - val_loss: 1.2938 - val_mse: 1.7732\n",
      "Epoch 17/40\n",
      "3/3 [==============================] - 0s 18ms/step - loss: 0.5387 - mse: 0.2902 - val_loss: 1.2954 - val_mse: 1.7828\n",
      "Epoch 18/40\n",
      "3/3 [==============================] - 0s 16ms/step - loss: 0.5189 - mse: 0.2693 - val_loss: 1.2971 - val_mse: 1.7927\n",
      "Epoch 19/40\n",
      "3/3 [==============================] - 0s 17ms/step - loss: 0.4990 - mse: 0.2490 - val_loss: 1.2988 - val_mse: 1.8029\n",
      "Epoch 20/40\n",
      "3/3 [==============================] - 0s 16ms/step - loss: 0.4790 - mse: 0.2295 - val_loss: 1.3005 - val_mse: 1.8135\n",
      "Epoch 21/40\n",
      "3/3 [==============================] - 0s 15ms/step - loss: 0.4591 - mse: 0.2108 - val_loss: 1.3023 - val_mse: 1.8242\n",
      "Epoch 22/40\n",
      "3/3 [==============================] - 0s 17ms/step - loss: 0.4394 - mse: 0.1931 - val_loss: 1.3040 - val_mse: 1.8352\n",
      "Epoch 23/40\n",
      "3/3 [==============================] - 0s 17ms/step - loss: 0.4200 - mse: 0.1764 - val_loss: 1.3057 - val_mse: 1.8463\n",
      "Epoch 24/40\n",
      "3/3 [==============================] - 0s 16ms/step - loss: 0.4009 - mse: 0.1608 - val_loss: 1.3075 - val_mse: 1.8575\n",
      "Epoch 25/40\n",
      "3/3 [==============================] - 0s 16ms/step - loss: 0.3823 - mse: 0.1461 - val_loss: 1.3092 - val_mse: 1.8688\n",
      "Epoch 26/40\n",
      "3/3 [==============================] - 0s 16ms/step - loss: 0.3641 - mse: 0.1326 - val_loss: 1.3110 - val_mse: 1.8801\n",
      "Epoch 27/40\n",
      "3/3 [==============================] - 0s 18ms/step - loss: 0.3465 - mse: 0.1201 - val_loss: 1.3127 - val_mse: 1.8912\n",
      "Epoch 28/40\n",
      "3/3 [==============================] - 0s 15ms/step - loss: 0.3296 - mse: 0.1086 - val_loss: 1.3144 - val_mse: 1.9023\n",
      "Epoch 29/40\n",
      "3/3 [==============================] - 0s 17ms/step - loss: 0.3133 - mse: 0.0981 - val_loss: 1.3160 - val_mse: 1.9132\n",
      "Epoch 30/40\n",
      "3/3 [==============================] - 0s 16ms/step - loss: 0.2977 - mse: 0.0886 - val_loss: 1.3177 - val_mse: 1.9240\n",
      "Epoch 31/40\n",
      "3/3 [==============================] - 0s 16ms/step - loss: 0.2828 - mse: 0.0800 - val_loss: 1.3193 - val_mse: 1.9344\n",
      "Epoch 32/40\n",
      "3/3 [==============================] - 0s 16ms/step - loss: 0.2686 - mse: 0.0722 - val_loss: 1.3208 - val_mse: 1.9446\n",
      "Epoch 33/40\n",
      "3/3 [==============================] - 0s 16ms/step - loss: 0.2552 - mse: 0.0651 - val_loss: 1.3223 - val_mse: 1.9545\n",
      "Epoch 34/40\n",
      "3/3 [==============================] - 0s 17ms/step - loss: 0.2425 - mse: 0.0588 - val_loss: 1.3238 - val_mse: 1.9641\n",
      "Epoch 35/40\n",
      "3/3 [==============================] - 0s 16ms/step - loss: 0.2306 - mse: 0.0532 - val_loss: 1.3252 - val_mse: 1.9734\n",
      "Epoch 36/40\n",
      "3/3 [==============================] - 0s 16ms/step - loss: 0.2193 - mse: 0.0481 - val_loss: 1.3266 - val_mse: 1.9824\n",
      "Epoch 37/40\n",
      "3/3 [==============================] - 0s 17ms/step - loss: 0.2087 - mse: 0.0435 - val_loss: 1.3280 - val_mse: 1.9910\n",
      "Epoch 38/40\n",
      "3/3 [==============================] - 0s 16ms/step - loss: 0.1987 - mse: 0.0395 - val_loss: 1.3293 - val_mse: 1.9993\n",
      "Epoch 39/40\n",
      "3/3 [==============================] - 0s 16ms/step - loss: 0.1894 - mse: 0.0359 - val_loss: 1.3306 - val_mse: 2.0072\n",
      "Epoch 40/40\n",
      "3/3 [==============================] - 0s 17ms/step - loss: 0.1806 - mse: 0.0326 - val_loss: 1.3318 - val_mse: 2.0149\n"
     ]
    }
   ],
   "source": [
    "#Entrenamiento de los datos\n",
    "EPOCHS=40\n",
    "model = crear_modeloFF()\n",
    "history=model.fit(x_train,y_train,epochs=EPOCHS,validation_data=(x_val,y_val),batch_size=PASOS)"
   ]
  },
  {
   "cell_type": "code",
   "execution_count": 21,
   "metadata": {},
   "outputs": [
    {
     "data": {
      "text/plain": [
       "array([[1., 1., 1., 1., 1., 1., 1., 1.],\n",
       "       [1., 1., 1., 1., 1., 1., 1., 1.],\n",
       "       [1., 1., 1., 1., 1., 1., 1., 1.],\n",
       "       [1., 1., 1., 1., 1., 1., 1., 1.],\n",
       "       [1., 1., 1., 1., 1., 1., 1., 1.],\n",
       "       [1., 1., 1., 1., 1., 1., 1., 1.],\n",
       "       [1., 1., 1., 1., 1., 1., 1., 1.],\n",
       "       [1., 1., 1., 1., 1., 1., 1., 1.],\n",
       "       [1., 1., 1., 1., 1., 1., 1., 1.],\n",
       "       [1., 1., 1., 1., 1., 1., 1., 1.],\n",
       "       [1., 1., 1., 1., 1., 1., 1., 1.],\n",
       "       [1., 1., 1., 1., 1., 1., 1., 1.],\n",
       "       [1., 1., 1., 1., 1., 1., 1., 1.],\n",
       "       [1., 1., 1., 1., 1., 1., 1., 1.],\n",
       "       [1., 1., 1., 1., 1., 1., 1., 1.]], dtype=float32)"
      ]
     },
     "execution_count": 21,
     "metadata": {},
     "output_type": "execute_result"
    }
   ],
   "source": [
    "train"
   ]
  },
  {
   "cell_type": "code",
   "execution_count": 22,
   "metadata": {},
   "outputs": [
    {
     "data": {
      "image/png": "[encoded data removed]",
      "text/plain": [
       "<Figure size 720x360 with 1 Axes>"
      ]
     },
     "metadata": {},
     "output_type": "display_data"
    }
   ],
   "source": [
    "#Correlación entre variables\n",
    "results=model.predict(x_val)\n",
    "plt.scatter(range(len(y_val)),y_val,c='g')\n",
    "plt.scatter(range(len(results)),results,c='r')\n",
    "plt.title('Validacion')\n",
    "plt.show()"
   ]
  },
  {
   "cell_type": "code",
   "execution_count": 23,
   "metadata": {},
   "outputs": [
    {
     "data": {
      "text/plain": [
       "array([[269122.47],\n",
       "       [269122.47],\n",
       "       [267652.56],\n",
       "       [267134.53],\n",
       "       [267603.94],\n",
       "       [267127.97],\n",
       "       [267044.22]], dtype=float32)"
      ]
     },
     "execution_count": 23,
     "metadata": {},
     "output_type": "execute_result"
    }
   ],
   "source": [
    "valores = model.predict(x_val)\n",
    "MinMaxScaler.inverse_transform(scaler, valores)"
   ]
  },
  {
   "cell_type": "code",
   "execution_count": 24,
   "metadata": {},
   "outputs": [
    {
     "data": {
      "image/png": "[encoded data removed]",
      "text/plain": [
       "<Figure size 720x360 with 1 Axes>"
      ]
     },
     "metadata": {},
     "output_type": "display_data"
    }
   ],
   "source": [
    "filtrado[\"PRECIO\"].plot(linewidth = 2.0).set_title(\"Gráfico de precios versus fecha\")\n",
    "filtrado['PRECIO'].plot(linewidth = 2.0).get_figure().savefig(\"graficoAntes.jpg\")\n",
    "filtrado['PRECIO'].plot(linewidth = 2.0).get_figure().savefig(\"graficoAntes.png\")"
   ]
  },
  {
   "cell_type": "code",
   "execution_count": 25,
   "metadata": {},
   "outputs": [],
   "source": [
    "#Inserción de datos para contraste  \n",
    "\n",
    "fecha = producto[\"FECHA\"]\n",
    "aux = MinMaxScaler.inverse_transform(scaler, valores)\n",
    "precio = producto[\"PRECIO\"]\n",
    "id_sku = producto[\"ID_SKU\"][0]\n",
    "tienda = producto[\"TIENDA\"][0]\n",
    "\n",
    "nuevosDatos = pd.DataFrame(columns=['ID', 'PRECIO', 'FECHA', 'TIENDA'])\n",
    "\n",
    "pos = len(fecha) -1\n",
    "fecha_aux = fecha[pos]\n",
    "\n",
    "for i in range(len(fecha)):\n",
    "    nuevosDatos = nuevosDatos.append({\"ID\":id_sku, \"PRECIO\": precio[i], \"FECHA\":fecha[i], \"TIENDA\":tienda}, ignore_index=True)\n",
    "    \n",
    "for i in range(len(aux)):\n",
    "    fecha_aux2 = fecha_aux + timedelta(i+1)\n",
    "    nuevosDatos = nuevosDatos.append({\"ID\":id_sku, \"PRECIO\":int(aux[i]), \"FECHA\":fecha_aux2, \"TIENDA\":tienda }, ignore_index=True)"
   ]
  },
  {
   "cell_type": "markdown",
   "metadata": {},
   "source": [
    "# Visualización de nuevos datos"
   ]
  },
  {
   "cell_type": "code",
   "execution_count": 26,
   "metadata": {
    "slideshow": {
     "slide_type": "-"
    }
   },
   "outputs": [],
   "source": [
    "#Cambio de indice de dataset del producto filtrado\n",
    "sbn.set(rc={'figure.figsize':(10, 5)})\n",
    "filtrado = nuevosDatos[[\"FECHA\", \"PRECIO\"]]\n",
    "filtrado.index = filtrado['FECHA']"
   ]
  },
  {
   "cell_type": "code",
   "execution_count": 27,
   "metadata": {
    "slideshow": {
     "slide_type": "slide"
    }
   },
   "outputs": [
    {
     "data": {
      "image/png": "[encoded data removed]",
      "text/plain": [
       "<Figure size 720x360 with 1 Axes>"
      ]
     },
     "metadata": {},
     "output_type": "display_data"
    }
   ],
   "source": [
    "#Generación y exportación de grafico con los valores de los precios del producto\n",
    "filtrado['PRECIO'].plot(linewidth = 3.0).set_title(\"Gráfico de precios versus fecha despues\")\n",
    "filtrado['PRECIO'].plot(linewidth = 3.0).get_figure().savefig(\"graficoDespues.jpg\")\n",
    "filtrado['PRECIO'].plot(linewidth = 3.0).get_figure().savefig(\"graficoDespues.png\")"
   ]
  },
  {
   "cell_type": "code",
   "execution_count": 28,
   "metadata": {},
   "outputs": [
    {
     "data": {
      "image/png": "[encoded data removed]",
      "text/plain": [
       "<Figure size 720x360 with 1 Axes>"
      ]
     },
     "metadata": {},
     "output_type": "display_data"
    }
   ],
   "source": [
    "#Creación grafico de tendencia\n",
    "x = filtrado[\"FECHA\"]\n",
    "y = filtrado[\"PRECIO\"]\n",
    "plt.step(x,y)\n",
    "plt.xlabel('Fechas de extracción')\n",
    "plt.ylabel('Precio de computadores')\n",
    "plt.title('Precios de notebook en función la fecha')\n",
    "plt.legend(['Linea de tendencia'])\n",
    "plt.savefig('TendenciaDespues.png', dpi=300, bbox_inches='tight')\n",
    "plt.savefig('TendenciaDespues.jpg', dpi=300, bbox_inches='tight')"
   ]
  },
  {
   "cell_type": "code",
   "execution_count": 29,
   "metadata": {},
   "outputs": [
    {
     "data": {
      "image/png": "[encoded data removed]",
      "text/plain": [
       "<Figure size 720x360 with 1 Axes>"
      ]
     },
     "metadata": {},
     "output_type": "display_data"
    }
   ],
   "source": [
    "#Generación de grafico de puntos\n",
    "plt.scatter(filtrado[\"FECHA\"], filtrado[\"PRECIO\"])\n",
    "plt.title(\"Precios en relación a la fecha\")\n",
    "plt.legend(\"Precios\")\n",
    "plt.savefig('scatterDespues.png', dpi=300, bbox_inches='tight')\n",
    "plt.savefig('scatterDespues.jpg', dpi=300, bbox_inches='tight')"
   ]
  },
  {
   "cell_type": "code",
   "execution_count": 30,
   "metadata": {},
   "outputs": [],
   "source": [
    "##Creación de Slide que muestra el grafico de precios en relación de la fecha original\n",
    "from pptx.util import Inches\n",
    "\n",
    "img_path = \"graficoAntes.jpg\"\n",
    "\n",
    "prs = Presentation('test.pptx')\n",
    "slide = prs.slides.add_slide(prs.slide_layouts[8])\n",
    "title = slide.shapes.title\n",
    "title.text=\"Gráfico de precios antes de la predicción\"\n",
    "left = Inches(2)\n",
    "top = Inches(2.5)\n",
    "right = Inches(3.5)\n",
    "height = Inches(3.5)\n",
    "pic = slide.shapes.add_picture(img_path, left, top, height=right)\n"
   ]
  },
  {
   "cell_type": "code",
   "execution_count": 31,
   "metadata": {},
   "outputs": [],
   "source": [
    "##Creación de slide que muestra el grafico de tendencia de los precios en relación a la fecha con los precios obtenidos por la prediccion.\n",
    "img_path = \"TendenciaAntes.jpg\"\n",
    "slide = prs.slides.add_slide(prs.slide_layouts[8])\n",
    "title = slide.shapes.title\n",
    "title.text=\"Gráfico de tendencia antes de la predicción\"\n",
    "left = Inches(2)\n",
    "top = Inches(2.5)\n",
    "right = Inches(3.5)\n",
    "height = Inches(3.5)\n",
    "pic = slide.shapes.add_picture(img_path, left, top, height=right)"
   ]
  },
  {
   "cell_type": "code",
   "execution_count": 32,
   "metadata": {},
   "outputs": [],
   "source": [
    "##Creación de slide que muestra el grafico de tendencia de los precios en relación a la fecha con los precios obtenidos por la prediccion.\n",
    "img_path = \"scatterAntes.jpg\"\n",
    "slide = prs.slides.add_slide(prs.slide_layouts[8])\n",
    "title = slide.shapes.title\n",
    "title.text=\"Muestra de distribución de valores antes\"\n",
    "left = Inches(2)\n",
    "top = Inches(2.5)\n",
    "right = Inches(3.5)\n",
    "height = Inches(3.5)\n",
    "pic = slide.shapes.add_picture(img_path, left, top, height=right)"
   ]
  },
  {
   "cell_type": "code",
   "execution_count": 33,
   "metadata": {},
   "outputs": [],
   "source": [
    "##Creación de slide que muestra el grafico de precios en relación a la fecha con los precios obtenidos por la prediccion.\n",
    "img_path = \"graficoDespues.jpg\"\n",
    "slide = prs.slides.add_slide(prs.slide_layouts[8])\n",
    "title = slide.shapes.title\n",
    "title.text=\"Gráfico de precios despues de la predicción\"\n",
    "left = Inches(2)\n",
    "top = Inches(2.5)\n",
    "right = Inches(3.5)\n",
    "height = Inches(3.5)\n",
    "pic = slide.shapes.add_picture(img_path, left, top, height=right)"
   ]
  },
  {
   "cell_type": "code",
   "execution_count": 34,
   "metadata": {},
   "outputs": [],
   "source": [
    "##Creación de slide que muestra el grafico de precios en relación a la fecha con los precios obtenidos por la prediccion.\n",
    "img_path = \"TendenciaDespues.jpg\"\n",
    "slide = prs.slides.add_slide(prs.slide_layouts[8])\n",
    "title = slide.shapes.title\n",
    "title.text=\"Gráfico de tendencia despues de la predicción\"\n",
    "left = Inches(2)\n",
    "top = Inches(2.5)\n",
    "right = Inches(3.5)\n",
    "height = Inches(3.5)\n",
    "pic = slide.shapes.add_picture(img_path, left, top, height=right)"
   ]
  },
  {
   "cell_type": "code",
   "execution_count": 35,
   "metadata": {},
   "outputs": [],
   "source": [
    "##Creación de slide que muestra el grafico de tendencia de los precios en relación a la fecha con los precios obtenidos por la prediccion.\n",
    "img_path = \"scatterDespues.jpg\"\n",
    "slide = prs.slides.add_slide(prs.slide_layouts[8])\n",
    "title = slide.shapes.title\n",
    "title.text=\"Muestra de distribución de valores después\"\n",
    "left = Inches(2)\n",
    "top = Inches(2.5)\n",
    "right = Inches(3.5)\n",
    "height = Inches(3.5)\n",
    "pic = slide.shapes.add_picture(img_path, left, top, height=right)\n",
    "\n",
    "prs.save(\"PresentacionFinal.pptx\")"
   ]
  }
 ],
 "metadata": {
  "interpreter": {
   "hash": "07efdcd4b820c98a756949507a4d29d7862823915ec7477944641bea022f4f62"
  },
  "kernelspec": {
   "display_name": "Python 3",
   "language": "python",
   "name": "python3"
  },
  "language_info": {
   "codemirror_mode": {
    "name": "ipython",
    "version": 3
   },
   "file_extension": ".py",
   "mimetype": "text/x-python",
   "name": "python",
   "nbconvert_exporter": "python",
   "pygments_lexer": "ipython3",
   "version": "3.8.5"
  }
 },
 "nbformat": 4,
 "nbformat_minor": 2
}
