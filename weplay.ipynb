{
 "cells": [
  {
   "cell_type": "code",
   "execution_count": 1,
   "metadata": {},
   "outputs": [
    {
     "name": "stderr",
     "output_type": "stream",
     "text": [
      "\n",
      "\n",
      "====== WebDriver manager ======\n",
      "Current google-chrome version is 99.0.4844\n",
      "Get LATEST chromedriver version for 99.0.4844 google-chrome\n",
      "Trying to download new driver from https://chromedriver.storage.googleapis.com/99.0.4844.51/chromedriver_win32.zip\n",
      "Driver has been saved in cache [C:\\Users\\ramir\\.wdm\\drivers\\chromedriver\\win32\\99.0.4844.51]\n",
      "C:\\Users\\ramir\\AppData\\Local\\Temp\\ipykernel_9636\\3490631331.py:14: DeprecationWarning: executable_path has been deprecated, please pass in a Service object\n",
      "  driver = webdriver.Chrome(ChromeDriverManager().install())\n"
     ]
    }
   ],
   "source": [
    "#Importacion de librerias\n",
    "\n",
    "import random    #Libreria para poder trabajar con valores aletarorios\n",
    "from time import sleep  #Importacion de método para detener el tiempo de ejecución\n",
    "from selenium import webdriver  #Importacion de libreria selenium para scraping   \n",
    "from webdriver_manager.chrome import ChromeDriverManager #Importacion para navegación en google chrome  \n",
    "from bs4 import BeautifulSoup #Importacion de BeautifulSoup para scraping\n",
    "import requests #Importacion para poder obtener datos de una pagina web en especifico\n",
    "import pandas as pd  #Importacion de libreria Pandas \n",
    "from datetime import datetime #Importacion de datetime para la obtención de la fecha de la extracción\n",
    "import math\n",
    "\n",
    "\n",
    "driver = webdriver.Chrome(ChromeDriverManager().install())"
   ]
  },
  {
   "cell_type": "code",
   "execution_count": null,
   "metadata": {},
   "outputs": [],
   "source": []
  }
 ],
 "metadata": {
  "interpreter": {
   "hash": "3fbeeaa4bae4cc6c8db28b5e5627b2fe9ee3adf3fe5e32ad78323e0b1e99db19"
  },
  "kernelspec": {
   "display_name": "Python 3.10.2 64-bit",
   "language": "python",
   "name": "python3"
  },
  "language_info": {
   "codemirror_mode": {
    "name": "ipython",
    "version": 3
   },
   "file_extension": ".py",
   "mimetype": "text/x-python",
   "name": "python",
   "nbconvert_exporter": "python",
   "pygments_lexer": "ipython3",
   "version": "3.10.2"
  },
  "orig_nbformat": 4
 },
 "nbformat": 4,
 "nbformat_minor": 2
}
